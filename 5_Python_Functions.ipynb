{
 "cells": [
  {
   "cell_type": "code",
   "execution_count": 2,
   "id": "bf979141",
   "metadata": {},
   "outputs": [],
   "source": [
    "## Write a Python function which can take any list of value and return summation value for odd and even number:\n",
    "\n",
    "def evenodd_sum(lst):\n",
    "    even_sum = 0\n",
    "    odd_sum = 0\n",
    "    for i in lst:\n",
    "        if i%2==0:\n",
    "            even_sum = even_sum+i\n",
    "        else:\n",
    "            odd_sum = odd_sum+i\n",
    "    return(even_sum,odd_sum)"
   ]
  },
  {
   "cell_type": "code",
   "execution_count": 3,
   "id": "f642b1c9",
   "metadata": {},
   "outputs": [
    {
     "data": {
      "text/plain": [
       "(6, 4)"
      ]
     },
     "execution_count": 3,
     "metadata": {},
     "output_type": "execute_result"
    }
   ],
   "source": [
    "lst = [1,2,3,4]\n",
    "evenodd_sum(lst)"
   ]
  },
  {
   "cell_type": "code",
   "execution_count": 5,
   "id": "b1a3b97a",
   "metadata": {},
   "outputs": [],
   "source": [
    "## Keyword argument and Positional argument:\n",
    "\n",
    "def two_sum(x,y=5):\n",
    "    return(x+y)"
   ]
  },
  {
   "cell_type": "code",
   "execution_count": 6,
   "id": "654c123e",
   "metadata": {},
   "outputs": [
    {
     "data": {
      "text/plain": [
       "10"
      ]
     },
     "execution_count": 6,
     "metadata": {},
     "output_type": "execute_result"
    }
   ],
   "source": [
    "two_sum(x=5)"
   ]
  },
  {
   "cell_type": "code",
   "execution_count": 8,
   "id": "c0a5a6db",
   "metadata": {},
   "outputs": [
    {
     "ename": "TypeError",
     "evalue": "two_sum() missing 1 required positional argument: 'x'",
     "output_type": "error",
     "traceback": [
      "\u001b[1;31m---------------------------------------------------------------------------\u001b[0m",
      "\u001b[1;31mTypeError\u001b[0m                                 Traceback (most recent call last)",
      "Input \u001b[1;32mIn [8]\u001b[0m, in \u001b[0;36m<cell line: 1>\u001b[1;34m()\u001b[0m\n\u001b[1;32m----> 1\u001b[0m \u001b[43mtwo_sum\u001b[49m\u001b[43m(\u001b[49m\u001b[43m)\u001b[49m\n",
      "\u001b[1;31mTypeError\u001b[0m: two_sum() missing 1 required positional argument: 'x'"
     ]
    }
   ],
   "source": [
    "two_sum() # x is called the positional argument. and the value of y is given that's why we call it's the keyword argument."
   ]
  },
  {
   "cell_type": "code",
   "execution_count": null,
   "id": "8a202eaf",
   "metadata": {},
   "outputs": [],
   "source": []
  }
 ],
 "metadata": {
  "kernelspec": {
   "display_name": "Python 3 (ipykernel)",
   "language": "python",
   "name": "python3"
  },
  "language_info": {
   "codemirror_mode": {
    "name": "ipython",
    "version": 3
   },
   "file_extension": ".py",
   "mimetype": "text/x-python",
   "name": "python",
   "nbconvert_exporter": "python",
   "pygments_lexer": "ipython3",
   "version": "3.9.12"
  }
 },
 "nbformat": 4,
 "nbformat_minor": 5
}
