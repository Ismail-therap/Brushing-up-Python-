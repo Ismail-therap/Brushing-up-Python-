{
 "cells": [
  {
   "cell_type": "markdown",
   "id": "edff9a20",
   "metadata": {},
   "source": [
    "# String Formating"
   ]
  },
  {
   "cell_type": "code",
   "execution_count": 3,
   "id": "755d816b",
   "metadata": {},
   "outputs": [
    {
     "data": {
      "text/plain": [
       "'Hello my name is Ismail'"
      ]
     },
     "execution_count": 3,
     "metadata": {},
     "output_type": "execute_result"
    }
   ],
   "source": [
    "# Passing a variable inside a string\n",
    "name = \"Ismail\"\n",
    "\"Hello my name is {}\".format(name)"
   ]
  },
  {
   "cell_type": "code",
   "execution_count": 4,
   "id": "20a0d917",
   "metadata": {},
   "outputs": [],
   "source": [
    "def name_age(name, age):\n",
    "    return \"My name is {}. I am {} years old\".format(name,age)"
   ]
  },
  {
   "cell_type": "code",
   "execution_count": 5,
   "id": "6631e16e",
   "metadata": {},
   "outputs": [
    {
     "data": {
      "text/plain": [
       "'My name is Ismail. I am 32 years old'"
      ]
     },
     "execution_count": 5,
     "metadata": {},
     "output_type": "execute_result"
    }
   ],
   "source": [
    "name_age(\"Ismail\", 32)"
   ]
  },
  {
   "cell_type": "code",
   "execution_count": 6,
   "id": "cdc24f21",
   "metadata": {},
   "outputs": [
    {
     "data": {
      "text/plain": [
       "'My name is 32. I am Ismail years old'"
      ]
     },
     "execution_count": 6,
     "metadata": {},
     "output_type": "execute_result"
    }
   ],
   "source": [
    "name_age(32,\"Ismail\")"
   ]
  },
  {
   "cell_type": "markdown",
   "id": "f265c0a1",
   "metadata": {},
   "source": [
    "So, order of the parameter is important."
   ]
  },
  {
   "cell_type": "markdown",
   "id": "f4f615ef",
   "metadata": {},
   "source": [
    "# Iterables vs Iterators"
   ]
  },
  {
   "cell_type": "markdown",
   "id": "7a82a75d",
   "metadata": {},
   "source": [
    "Lets you have a million of values and need to put them in a list. To save the memory we can use iter() function rather save them in a list and whenever we need any element from that list just use the next() command."
   ]
  },
  {
   "cell_type": "code",
   "execution_count": 15,
   "id": "b1f80110",
   "metadata": {},
   "outputs": [
    {
     "data": {
      "text/plain": [
       "[1, 2, 3, 4, 5, 6, 7, 8, 9, 10]"
      ]
     },
     "execution_count": 15,
     "metadata": {},
     "output_type": "execute_result"
    }
   ],
   "source": [
    "# As an example:\n",
    "\n",
    "list1 = list(range(1,11))\n",
    "list1"
   ]
  },
  {
   "cell_type": "code",
   "execution_count": 16,
   "id": "196043b8",
   "metadata": {},
   "outputs": [
    {
     "name": "stdout",
     "output_type": "stream",
     "text": [
      "1\n",
      "2\n",
      "3\n",
      "4\n",
      "5\n",
      "6\n",
      "7\n",
      "8\n",
      "9\n",
      "10\n"
     ]
    }
   ],
   "source": [
    "# Iterable\n",
    "for i in list1:\n",
    "    print(i)"
   ]
  },
  {
   "cell_type": "code",
   "execution_count": 18,
   "id": "ba5b6287",
   "metadata": {},
   "outputs": [],
   "source": [
    "# Iterator\n",
    "iterator = iter(list1)"
   ]
  },
  {
   "cell_type": "code",
   "execution_count": 20,
   "id": "dc1498a6",
   "metadata": {},
   "outputs": [
    {
     "data": {
      "text/plain": [
       "1"
      ]
     },
     "execution_count": 20,
     "metadata": {},
     "output_type": "execute_result"
    }
   ],
   "source": [
    "next(iterator)"
   ]
  },
  {
   "cell_type": "code",
   "execution_count": null,
   "id": "2fcccda3",
   "metadata": {},
   "outputs": [],
   "source": []
  }
 ],
 "metadata": {
  "kernelspec": {
   "display_name": "Python 3 (ipykernel)",
   "language": "python",
   "name": "python3"
  },
  "language_info": {
   "codemirror_mode": {
    "name": "ipython",
    "version": 3
   },
   "file_extension": ".py",
   "mimetype": "text/x-python",
   "name": "python",
   "nbconvert_exporter": "python",
   "pygments_lexer": "ipython3",
   "version": "3.9.12"
  }
 },
 "nbformat": 4,
 "nbformat_minor": 5
}
