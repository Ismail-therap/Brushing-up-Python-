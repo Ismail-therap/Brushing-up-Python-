{
 "cells": [
  {
   "cell_type": "markdown",
   "id": "97058b60",
   "metadata": {},
   "source": [
    "# Array "
   ]
  },
  {
   "cell_type": "code",
   "execution_count": 1,
   "id": "ce82770c",
   "metadata": {},
   "outputs": [],
   "source": [
    "import numpy as np"
   ]
  },
  {
   "cell_type": "code",
   "execution_count": 43,
   "id": "eb45d4b7",
   "metadata": {},
   "outputs": [
    {
     "data": {
      "text/plain": [
       "[1, 2, 3, 4]"
      ]
     },
     "execution_count": 43,
     "metadata": {},
     "output_type": "execute_result"
    }
   ],
   "source": [
    "lst = [1,2,3,4]\n",
    "lst"
   ]
  },
  {
   "cell_type": "code",
   "execution_count": 44,
   "id": "cd81a036",
   "metadata": {},
   "outputs": [
    {
     "data": {
      "text/plain": [
       "array([1, 2, 3, 4])"
      ]
     },
     "execution_count": 44,
     "metadata": {},
     "output_type": "execute_result"
    }
   ],
   "source": [
    "arr = np.array(lst)\n",
    "arr"
   ]
  },
  {
   "cell_type": "code",
   "execution_count": 9,
   "id": "2a8e7047",
   "metadata": {},
   "outputs": [
    {
     "data": {
      "text/plain": [
       "numpy.ndarray"
      ]
     },
     "execution_count": 9,
     "metadata": {},
     "output_type": "execute_result"
    }
   ],
   "source": [
    "type(arr)"
   ]
  },
  {
   "cell_type": "code",
   "execution_count": 10,
   "id": "dd9bf3f1",
   "metadata": {},
   "outputs": [
    {
     "data": {
      "text/plain": [
       "list"
      ]
     },
     "execution_count": 10,
     "metadata": {},
     "output_type": "execute_result"
    }
   ],
   "source": [
    "type(lst)"
   ]
  },
  {
   "cell_type": "code",
   "execution_count": 11,
   "id": "e7c980e3",
   "metadata": {},
   "outputs": [
    {
     "data": {
      "text/plain": [
       "(4,)"
      ]
     },
     "execution_count": 11,
     "metadata": {},
     "output_type": "execute_result"
    }
   ],
   "source": [
    "arr.shape"
   ]
  },
  {
   "cell_type": "code",
   "execution_count": 17,
   "id": "9d80f82d",
   "metadata": {},
   "outputs": [],
   "source": [
    "# Multilisted array\n",
    "\n",
    "l1 = [1,2,3,10]\n",
    "l2 = [4,5,6,20]\n",
    "l3 = [7,8,9,30]"
   ]
  },
  {
   "cell_type": "code",
   "execution_count": 19,
   "id": "15485d41",
   "metadata": {},
   "outputs": [
    {
     "data": {
      "text/plain": [
       "array([[ 1,  2,  3, 10],\n",
       "       [ 4,  5,  6, 20],\n",
       "       [ 7,  8,  9, 30]])"
      ]
     },
     "execution_count": 19,
     "metadata": {},
     "output_type": "execute_result"
    }
   ],
   "source": [
    "arry_ml = np.array([l1,l2,l3])\n",
    "arry_ml"
   ]
  },
  {
   "cell_type": "code",
   "execution_count": 16,
   "id": "5f35e8ff",
   "metadata": {},
   "outputs": [
    {
     "data": {
      "text/plain": [
       "(3, 3)"
      ]
     },
     "execution_count": 16,
     "metadata": {},
     "output_type": "execute_result"
    }
   ],
   "source": [
    "arry_ml.shape"
   ]
  },
  {
   "cell_type": "code",
   "execution_count": 20,
   "id": "5ba046e4",
   "metadata": {},
   "outputs": [
    {
     "data": {
      "text/plain": [
       "array([[ 1,  2,  3],\n",
       "       [10,  4,  5],\n",
       "       [ 6, 20,  7],\n",
       "       [ 8,  9, 30]])"
      ]
     },
     "execution_count": 20,
     "metadata": {},
     "output_type": "execute_result"
    }
   ],
   "source": [
    "arry_ml.reshape(4,3)"
   ]
  },
  {
   "cell_type": "markdown",
   "id": "e38f32a5",
   "metadata": {},
   "source": [
    "# Indexing"
   ]
  },
  {
   "cell_type": "code",
   "execution_count": 21,
   "id": "ed627ff0",
   "metadata": {},
   "outputs": [
    {
     "data": {
      "text/plain": [
       "array([1, 2, 3, 4])"
      ]
     },
     "execution_count": 21,
     "metadata": {},
     "output_type": "execute_result"
    }
   ],
   "source": [
    "arr"
   ]
  },
  {
   "cell_type": "code",
   "execution_count": 22,
   "id": "0c0aedb5",
   "metadata": {},
   "outputs": [
    {
     "data": {
      "text/plain": [
       "1"
      ]
     },
     "execution_count": 22,
     "metadata": {},
     "output_type": "execute_result"
    }
   ],
   "source": [
    "arr[0]"
   ]
  },
  {
   "cell_type": "code",
   "execution_count": 23,
   "id": "48e1e9b0",
   "metadata": {},
   "outputs": [
    {
     "data": {
      "text/plain": [
       "array([[ 1,  2,  3, 10],\n",
       "       [ 4,  5,  6, 20],\n",
       "       [ 7,  8,  9, 30]])"
      ]
     },
     "execution_count": 23,
     "metadata": {},
     "output_type": "execute_result"
    }
   ],
   "source": [
    "arry_ml"
   ]
  },
  {
   "cell_type": "code",
   "execution_count": 24,
   "id": "40372dac",
   "metadata": {},
   "outputs": [
    {
     "data": {
      "text/plain": [
       "array([[1]])"
      ]
     },
     "execution_count": 24,
     "metadata": {},
     "output_type": "execute_result"
    }
   ],
   "source": [
    "# Single element picking techniqes\n",
    "\n",
    "arry_ml[0:1,0:1] # selecting first element which is 1"
   ]
  },
  {
   "cell_type": "code",
   "execution_count": 28,
   "id": "06ec467a",
   "metadata": {},
   "outputs": [
    {
     "data": {
      "text/plain": [
       "array([[2]])"
      ]
     },
     "execution_count": 28,
     "metadata": {},
     "output_type": "execute_result"
    }
   ],
   "source": [
    "arry_ml[0:1,1:2] "
   ]
  },
  {
   "cell_type": "code",
   "execution_count": 30,
   "id": "45cc00f3",
   "metadata": {},
   "outputs": [
    {
     "data": {
      "text/plain": [
       "array([[5, 6]])"
      ]
     },
     "execution_count": 30,
     "metadata": {},
     "output_type": "execute_result"
    }
   ],
   "source": [
    "arry_ml[1:2,1:3] # Selecting 5 and 6"
   ]
  },
  {
   "cell_type": "markdown",
   "id": "a04c5180",
   "metadata": {},
   "source": [
    "First collon indicating rows and 2nd element indicatin columns."
   ]
  },
  {
   "cell_type": "code",
   "execution_count": 33,
   "id": "096a7277",
   "metadata": {},
   "outputs": [
    {
     "data": {
      "text/plain": [
       "array([0, 2, 4, 6, 8])"
      ]
     },
     "execution_count": 33,
     "metadata": {},
     "output_type": "execute_result"
    }
   ],
   "source": [
    "np.arange(0,10,step = 2) # Does not includes the upper limit"
   ]
  },
  {
   "cell_type": "code",
   "execution_count": 37,
   "id": "715ac0cf",
   "metadata": {},
   "outputs": [
    {
     "data": {
      "text/plain": [
       "array([0., 2., 4., 6., 8.])"
      ]
     },
     "execution_count": 37,
     "metadata": {},
     "output_type": "execute_result"
    }
   ],
   "source": [
    "np.linspace(start = 0, stop= 8, num = 5) # Includes the upper limits"
   ]
  },
  {
   "cell_type": "code",
   "execution_count": 45,
   "id": "74bf3155",
   "metadata": {},
   "outputs": [],
   "source": [
    "# Copy function and broadcasting\n",
    "\n",
    "arr[1:] = 10\n",
    "arr"
   ]
  },
  {
   "cell_type": "code",
   "execution_count": 50,
   "id": "b291d2d0",
   "metadata": {},
   "outputs": [
    {
     "name": "stdout",
     "output_type": "stream",
     "text": [
      "[0 1 2 3 4 5 6 7 8 9]\n"
     ]
    },
    {
     "data": {
      "text/plain": [
       "array([0, 1, 2, 3, 4])"
      ]
     },
     "execution_count": 50,
     "metadata": {},
     "output_type": "execute_result"
    }
   ],
   "source": [
    "# Few more operation on arrarys\n",
    "\n",
    "ar1 = np.arange(0,10)\n",
    "print(ar1)\n",
    "\n",
    "# Check which values in the array less than 5\n",
    "ar1[ar1<5]"
   ]
  },
  {
   "cell_type": "code",
   "execution_count": 53,
   "id": "3b574ffb",
   "metadata": {},
   "outputs": [
    {
     "data": {
      "text/plain": [
       "array([[ 0,  1,  2],\n",
       "       [ 3,  4,  5],\n",
       "       [ 6,  7,  8],\n",
       "       [ 9, 10, 11]])"
      ]
     },
     "execution_count": 53,
     "metadata": {},
     "output_type": "execute_result"
    }
   ],
   "source": [
    "# arange and reshape together\n",
    "np.arange(0,12).reshape(4,3)"
   ]
  },
  {
   "cell_type": "code",
   "execution_count": 57,
   "id": "a8893a03",
   "metadata": {},
   "outputs": [
    {
     "data": {
      "text/plain": [
       "array([1, 1, 1])"
      ]
     },
     "execution_count": 57,
     "metadata": {},
     "output_type": "execute_result"
    }
   ],
   "source": [
    "np.ones(3,dtype=int)"
   ]
  },
  {
   "cell_type": "code",
   "execution_count": 63,
   "id": "d61ff3ea",
   "metadata": {},
   "outputs": [
    {
     "data": {
      "text/plain": [
       "array([[1, 1, 1],\n",
       "       [1, 1, 1],\n",
       "       [1, 1, 1]])"
      ]
     },
     "execution_count": 63,
     "metadata": {},
     "output_type": "execute_result"
    }
   ],
   "source": [
    "np.ones((3,3),dtype=int)"
   ]
  },
  {
   "cell_type": "markdown",
   "id": "1d2a3d28",
   "metadata": {},
   "source": [
    "## Generating random numbers from distribution"
   ]
  },
  {
   "cell_type": "code",
   "execution_count": 72,
   "id": "8233bcec",
   "metadata": {},
   "outputs": [],
   "source": [
    "import seaborn as sns"
   ]
  },
  {
   "cell_type": "markdown",
   "id": "a31c41c3",
   "metadata": {},
   "source": [
    "### Uniform [0-1]"
   ]
  },
  {
   "cell_type": "code",
   "execution_count": 79,
   "id": "1430ea99",
   "metadata": {},
   "outputs": [
    {
     "data": {
      "text/plain": [
       "array([[0.69898457],\n",
       "       [0.22350837],\n",
       "       [0.26711227],\n",
       "       [0.25164353],\n",
       "       [0.65110092],\n",
       "       [0.37176865],\n",
       "       [0.89632546],\n",
       "       [0.67780655],\n",
       "       [0.07249962]])"
      ]
     },
     "execution_count": 79,
     "metadata": {},
     "output_type": "execute_result"
    }
   ],
   "source": [
    "y = np.random.rand(3,3)\n",
    "y_one_dim = y.reshape(9,1)\n",
    "y_one_dim"
   ]
  },
  {
   "cell_type": "code",
   "execution_count": 80,
   "id": "9f09581a",
   "metadata": {},
   "outputs": [
    {
     "name": "stderr",
     "output_type": "stream",
     "text": [
      "C:\\Users\\stati\\anaconda3\\lib\\site-packages\\seaborn\\distributions.py:2619: FutureWarning: `distplot` is a deprecated function and will be removed in a future version. Please adapt your code to use either `displot` (a figure-level function with similar flexibility) or `histplot` (an axes-level function for histograms).\n",
      "  warnings.warn(msg, FutureWarning)\n"
     ]
    },
    {
     "data": {
      "text/plain": [
       "<AxesSubplot:ylabel='Density'>"
      ]
     },
     "execution_count": 80,
     "metadata": {},
     "output_type": "execute_result"
    },
    {
     "data": {
      "image/png": "[encoded data removed]",
      "text/plain": [
       "<Figure size 432x288 with 1 Axes>"
      ]
     },
     "metadata": {
      "needs_background": "light"
     },
     "output_type": "display_data"
    }
   ],
   "source": [
    "sns.distplot(y_one_dim)"
   ]
  },
  {
   "cell_type": "markdown",
   "id": "4ec5720a",
   "metadata": {},
   "source": [
    "### Standard normal distribution"
   ]
  },
  {
   "cell_type": "code",
   "execution_count": 76,
   "id": "444fe5c3",
   "metadata": {},
   "outputs": [],
   "source": [
    "x = np.random.randn(3,3)"
   ]
  },
  {
   "cell_type": "code",
   "execution_count": 77,
   "id": "ab6892f4",
   "metadata": {},
   "outputs": [
    {
     "data": {
      "text/plain": [
       "array([[-1.26190919],\n",
       "       [-0.46774417],\n",
       "       [-0.39209757],\n",
       "       [-1.1464885 ],\n",
       "       [ 0.02598967],\n",
       "       [ 0.94668242],\n",
       "       [ 0.23611697],\n",
       "       [ 1.3692172 ],\n",
       "       [ 1.23029006]])"
      ]
     },
     "execution_count": 77,
     "metadata": {},
     "output_type": "execute_result"
    }
   ],
   "source": [
    "x_one_dim = x.reshape(9,1)\n",
    "x_one_dim"
   ]
  },
  {
   "cell_type": "code",
   "execution_count": 78,
   "id": "39f24629",
   "metadata": {},
   "outputs": [
    {
     "name": "stderr",
     "output_type": "stream",
     "text": [
      "C:\\Users\\stati\\anaconda3\\lib\\site-packages\\seaborn\\distributions.py:2619: FutureWarning: `distplot` is a deprecated function and will be removed in a future version. Please adapt your code to use either `displot` (a figure-level function with similar flexibility) or `histplot` (an axes-level function for histograms).\n",
      "  warnings.warn(msg, FutureWarning)\n"
     ]
    },
    {
     "data": {
      "text/plain": [
       "<AxesSubplot:ylabel='Density'>"
      ]
     },
     "execution_count": 78,
     "metadata": {},
     "output_type": "execute_result"
    },
    {
     "data": {
      "image/png": "[encoded data removed]",
      "text/plain": [
       "<Figure size 432x288 with 1 Axes>"
      ]
     },
     "metadata": {
      "needs_background": "light"
     },
     "output_type": "display_data"
    }
   ],
   "source": [
    "sns.distplot(x_one_dim)"
   ]
  },
  {
   "cell_type": "markdown",
   "id": "38ae8060",
   "metadata": {},
   "source": [
    "## Select integer random numbers"
   ]
  },
  {
   "cell_type": "code",
   "execution_count": 87,
   "id": "c26db1a0",
   "metadata": {},
   "outputs": [
    {
     "data": {
      "text/plain": [
       "array([1, 9, 6, 7, 2])"
      ]
     },
     "execution_count": 87,
     "metadata": {},
     "output_type": "execute_result"
    }
   ],
   "source": [
    "z = np.random.randint(1,10,5) # From 1 to 10 generating 5 ineger value randomly\n",
    "z"
   ]
  },
  {
   "cell_type": "code",
   "execution_count": null,
   "id": "b3825313",
   "metadata": {},
   "outputs": [],
   "source": []
  }
 ],
 "metadata": {
  "kernelspec": {
   "display_name": "Python 3 (ipykernel)",
   "language": "python",
   "name": "python3"
  },
  "language_info": {
   "codemirror_mode": {
    "name": "ipython",
    "version": 3
   },
   "file_extension": ".py",
   "mimetype": "text/x-python",
   "name": "python",
   "nbconvert_exporter": "python",
   "pygments_lexer": "ipython3",
   "version": "3.9.12"
  }
 },
 "nbformat": 4,
 "nbformat_minor": 5
}
