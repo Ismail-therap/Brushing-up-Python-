{
 "cells": [
  {
   "cell_type": "code",
   "execution_count": null,
   "id": "f1e972bb",
   "metadata": {},
   "outputs": [],
   "source": [
    "# Basic structure of an object oriented programming structure"
   ]
  },
  {
   "cell_type": "code",
   "execution_count": 1,
   "id": "96398b78",
   "metadata": {},
   "outputs": [],
   "source": [
    "class Car():\n",
    "    def __init__(self, window, doors, enginetype):\n",
    "        self.window = window\n",
    "        self.doors = doors\n",
    "        self.enginetype = enginetype\n",
    "        \n",
    "    def drive(self):\n",
    "        return (\"Engine type is {}\".format(self.enginetype))"
   ]
  },
  {
   "cell_type": "code",
   "execution_count": 2,
   "id": "d080e29d",
   "metadata": {},
   "outputs": [],
   "source": [
    "car = Car(4,5,\"diesel\")\n"
   ]
  },
  {
   "cell_type": "code",
   "execution_count": 3,
   "id": "de4c5107",
   "metadata": {},
   "outputs": [
    {
     "data": {
      "text/plain": [
       "'Engine type is diesel'"
      ]
     },
     "execution_count": 3,
     "metadata": {},
     "output_type": "execute_result"
    }
   ],
   "source": [
    "car.drive()"
   ]
  },
  {
   "cell_type": "code",
   "execution_count": null,
   "id": "1bea5f4f",
   "metadata": {},
   "outputs": [],
   "source": []
  }
 ],
 "metadata": {
  "kernelspec": {
   "display_name": "Python 3 (ipykernel)",
   "language": "python",
   "name": "python3"
  },
  "language_info": {
   "codemirror_mode": {
    "name": "ipython",
    "version": 3
   },
   "file_extension": ".py",
   "mimetype": "text/x-python",
   "name": "python",
   "nbconvert_exporter": "python",
   "pygments_lexer": "ipython3",
   "version": "3.9.12"
  }
 },
 "nbformat": 4,
 "nbformat_minor": 5
}
