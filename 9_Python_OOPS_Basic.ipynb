{
 "cells": [
  {
   "cell_type": "markdown",
   "id": "49782fa1",
   "metadata": {},
   "source": [
    "# Main Concepts of Object-Oriented Programming (OOPs) "
   ]
  },
  {
   "cell_type": "markdown",
   "id": "6568df6e",
   "metadata": {},
   "source": [
    "1. Class\n",
    "2. Objects\n",
    "3. Polymorphism\n",
    "4. Encapsulation\n",
    "5. Inheritance\n",
    "6. Data Abstraction"
   ]
  },
  {
   "cell_type": "markdown",
   "id": "06fab2a6",
   "metadata": {},
   "source": [
    "## Basic structure OOPS"
   ]
  },
  {
   "cell_type": "markdown",
   "id": "8c6bc2f9",
   "metadata": {},
   "source": [
    "### Example: Creating an empty Class in Python"
   ]
  },
  {
   "cell_type": "code",
   "execution_count": 10,
   "id": "8e3d926c",
   "metadata": {},
   "outputs": [],
   "source": [
    "# a class\n",
    " \n",
    "class Car:\n",
    "    pass"
   ]
  },
  {
   "cell_type": "markdown",
   "id": "18b33bd0",
   "metadata": {},
   "source": [
    "### Example: Creating an object\n"
   ]
  },
  {
   "cell_type": "code",
   "execution_count": 11,
   "id": "28994bc5",
   "metadata": {},
   "outputs": [],
   "source": [
    "obj = Car()"
   ]
  },
  {
   "cell_type": "markdown",
   "id": "47741763",
   "metadata": {},
   "source": [
    "### Example 1: Creating a class and object with class and instance attributes with method"
   ]
  },
  {
   "cell_type": "code",
   "execution_count": 1,
   "id": "96398b78",
   "metadata": {},
   "outputs": [],
   "source": [
    "class Car():\n",
    "    def __init__(self, window, doors, enginetype):\n",
    "        self.window = window\n",
    "        self.doors = doors\n",
    "        self.enginetype = enginetype\n",
    "        \n",
    "    def drive(self):\n",
    "        return (\"Engine type is {}\".format(self.enginetype))"
   ]
  },
  {
   "cell_type": "code",
   "execution_count": 2,
   "id": "d080e29d",
   "metadata": {},
   "outputs": [],
   "source": [
    "car = Car(4,5,\"diesel\")\n"
   ]
  },
  {
   "cell_type": "code",
   "execution_count": 3,
   "id": "de4c5107",
   "metadata": {},
   "outputs": [
    {
     "data": {
      "text/plain": [
       "'Engine type is diesel'"
      ]
     },
     "execution_count": 3,
     "metadata": {},
     "output_type": "execute_result"
    }
   ],
   "source": [
    "car.drive()"
   ]
  },
  {
   "cell_type": "markdown",
   "id": "a4e26174",
   "metadata": {},
   "source": [
    "## OOPS Inheritance:"
   ]
  },
  {
   "cell_type": "code",
   "execution_count": 1,
   "id": "1bea5f4f",
   "metadata": {},
   "outputs": [],
   "source": [
    "## ### All the class variables are public\n",
    "### Car Blueprint (This is the mother)\n",
    "class Car():\n",
    "    def __init__(self,windows,doors,enginetype):\n",
    "        self.windows=windows\n",
    "        self.doors=doors\n",
    "        self.enginetype=enginetype\n",
    "    def drive(self):\n",
    "        print(\"The Person drives the car\")\n",
    "    "
   ]
  },
  {
   "cell_type": "code",
   "execution_count": 2,
   "id": "0c65134c",
   "metadata": {},
   "outputs": [],
   "source": [
    "car=Car(4,5,\"diesel\")\n"
   ]
  },
  {
   "cell_type": "code",
   "execution_count": 4,
   "id": "663b1069",
   "metadata": {},
   "outputs": [
    {
     "name": "stdout",
     "output_type": "stream",
     "text": [
      "The Person drives the car\n"
     ]
    }
   ],
   "source": [
    "car.drive()"
   ]
  },
  {
   "cell_type": "code",
   "execution_count": 5,
   "id": "9543eb15",
   "metadata": {},
   "outputs": [],
   "source": [
    "# This is the child:\n",
    "\n",
    "class audi(Car):\n",
    "    def __init__(self,windows,doors,enginetype,enableai):\n",
    "        super().__init__(windows,doors,enginetype)\n",
    "        self.enableai=enableai\n",
    "    def selfdriving(self):\n",
    "        print(\"Audi supports Self driving\")"
   ]
  },
  {
   "cell_type": "code",
   "execution_count": 6,
   "id": "2781df72",
   "metadata": {},
   "outputs": [],
   "source": [
    "audiQ7=audi(5,5,\"diesel\",True)\n"
   ]
  },
  {
   "cell_type": "code",
   "execution_count": 7,
   "id": "50216de9",
   "metadata": {},
   "outputs": [
    {
     "name": "stdout",
     "output_type": "stream",
     "text": [
      "Audi supports Self driving\n"
     ]
    }
   ],
   "source": [
    "audiQ7.selfdriving()\n"
   ]
  },
  {
   "cell_type": "code",
   "execution_count": null,
   "id": "3927e8c1",
   "metadata": {},
   "outputs": [],
   "source": []
  }
 ],
 "metadata": {
  "kernelspec": {
   "display_name": "Python 3 (ipykernel)",
   "language": "python",
   "name": "python3"
  },
  "language_info": {
   "codemirror_mode": {
    "name": "ipython",
    "version": 3
   },
   "file_extension": ".py",
   "mimetype": "text/x-python",
   "name": "python",
   "nbconvert_exporter": "python",
   "pygments_lexer": "ipython3",
   "version": "3.9.12"
  }
 },
 "nbformat": 4,
 "nbformat_minor": 5
}
