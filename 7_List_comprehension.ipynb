{
 "cells": [
  {
   "cell_type": "markdown",
   "id": "f7f64ad5",
   "metadata": {},
   "source": [
    "# List Comprehension"
   ]
  },
  {
   "cell_type": "markdown",
   "id": "a0464c81",
   "metadata": {},
   "source": [
    "List comprehension offers a shorter syntax when you want to create a new list based on the values of an existing list."
   ]
  },
  {
   "cell_type": "code",
   "execution_count": 27,
   "id": "58cecac1",
   "metadata": {},
   "outputs": [
    {
     "data": {
      "text/plain": [
       "[1, 2, 3, 4, 5, 6, 7, 8, 9]"
      ]
     },
     "execution_count": 27,
     "metadata": {},
     "output_type": "execute_result"
    }
   ],
   "source": [
    "lst = list(range(1,10))\n",
    "lst"
   ]
  },
  {
   "cell_type": "markdown",
   "id": "a8a8bcd8",
   "metadata": {},
   "source": [
    "We want the square of each element of the list:"
   ]
  },
  {
   "cell_type": "code",
   "execution_count": 28,
   "id": "b25fadee",
   "metadata": {},
   "outputs": [],
   "source": [
    "sq_itm = []\n",
    "\n",
    "def sq_lst(lst):\n",
    "    for i in lst:\n",
    "        sq_itm.append(i*i) \n",
    "    return sq_itm"
   ]
  },
  {
   "cell_type": "code",
   "execution_count": 29,
   "id": "03986d72",
   "metadata": {},
   "outputs": [
    {
     "data": {
      "text/plain": [
       "[1, 4, 9, 16, 25, 36, 49, 64, 81]"
      ]
     },
     "execution_count": 29,
     "metadata": {},
     "output_type": "execute_result"
    }
   ],
   "source": [
    "sq_lst(lst)"
   ]
  },
  {
   "cell_type": "markdown",
   "id": "7ff45142",
   "metadata": {},
   "source": [
    "#### This same work we can do using list comprehension"
   ]
  },
  {
   "cell_type": "code",
   "execution_count": 30,
   "id": "9a904cc0",
   "metadata": {},
   "outputs": [
    {
     "data": {
      "text/plain": [
       "[1, 4, 9, 16, 25, 36, 49, 64, 81]"
      ]
     },
     "execution_count": 30,
     "metadata": {},
     "output_type": "execute_result"
    }
   ],
   "source": [
    "[i*i for i in lst]"
   ]
  },
  {
   "cell_type": "markdown",
   "id": "615b23a8",
   "metadata": {},
   "source": [
    "We also can use different if else statement inside"
   ]
  },
  {
   "cell_type": "code",
   "execution_count": 31,
   "id": "dff82d8a",
   "metadata": {},
   "outputs": [
    {
     "data": {
      "text/plain": [
       "[4, 16, 36, 64]"
      ]
     },
     "execution_count": 31,
     "metadata": {},
     "output_type": "execute_result"
    }
   ],
   "source": [
    "[i*i for i in lst if i%2==0] #square only the even numbers"
   ]
  },
  {
   "cell_type": "markdown",
   "id": "08b68058",
   "metadata": {},
   "source": [
    "List comprehension help to reduce time in execution."
   ]
  },
  {
   "cell_type": "code",
   "execution_count": null,
   "id": "6a4d6a68",
   "metadata": {},
   "outputs": [],
   "source": []
  }
 ],
 "metadata": {
  "kernelspec": {
   "display_name": "Python 3 (ipykernel)",
   "language": "python",
   "name": "python3"
  },
  "language_info": {
   "codemirror_mode": {
    "name": "ipython",
    "version": 3
   },
   "file_extension": ".py",
   "mimetype": "text/x-python",
   "name": "python",
   "nbconvert_exporter": "python",
   "pygments_lexer": "ipython3",
   "version": "3.9.12"
  }
 },
 "nbformat": 4,
 "nbformat_minor": 5
}
