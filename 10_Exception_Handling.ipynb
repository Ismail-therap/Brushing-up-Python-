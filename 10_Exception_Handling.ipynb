{
 "cells": [
  {
   "cell_type": "markdown",
   "id": "3da1749a",
   "metadata": {},
   "source": [
    "# Python Exception basic:"
   ]
  },
  {
   "cell_type": "code",
   "execution_count": 4,
   "id": "fa8185b0",
   "metadata": {},
   "outputs": [
    {
     "name": "stdout",
     "output_type": "stream",
     "text": [
      "DB prameter not given\n",
      "Closing the db!\n"
     ]
    }
   ],
   "source": [
    "try:\n",
    "    # Trying to connect db\n",
    "    db_name = a\n",
    "    password = b\n",
    "except Exception as ex:\n",
    "    print(\"DB prameter not given\")\n",
    "else:\n",
    "    print(\"Things going to popup without exception\") #If exception doesn't catch then this part will run\n",
    "finally:\n",
    "    print(\"Closing the db!\") # This will always run! "
   ]
  },
  {
   "cell_type": "markdown",
   "id": "8773b3ab",
   "metadata": {},
   "source": [
    "# Custom Exception"
   ]
  },
  {
   "cell_type": "markdown",
   "id": "634ba8b4",
   "metadata": {},
   "source": [
    "Rather than the showing the defult error we can create our own error or exception message. As an example, this pice of code will show the exception if a person isn't qualifing for an exam as his age is out of range."
   ]
  },
  {
   "cell_type": "code",
   "execution_count": 2,
   "id": "1e27704c",
   "metadata": {},
   "outputs": [],
   "source": [
    "class Error(Exception):\n",
    "    pass\n",
    "\n",
    "class dobException(Error):\n",
    "    pass\n",
    "\n",
    "class customgeneric(Error):\n",
    "    pass"
   ]
  },
  {
   "cell_type": "code",
   "execution_count": 7,
   "id": "9169bd9c",
   "metadata": {},
   "outputs": [
    {
     "name": "stdout",
     "output_type": "stream",
     "text": [
      "Enter the year of Birth 1990\n",
      "The age is not within the range. You cannot apply for the exams\n"
     ]
    }
   ],
   "source": [
    "year=int(input(\"Enter the year of Birth \"))\n",
    "age=2022-year\n",
    "try:\n",
    "    if age<=30 & age>20:\n",
    "        print(\"The age is valid. You can apply for the exams\")\n",
    "    else:\n",
    "        raise dobException\n",
    "except dobException:\n",
    "    print(\"The age is not within the range. You cannot apply for the exams\")"
   ]
  },
  {
   "cell_type": "code",
   "execution_count": null,
   "id": "029e7bcb",
   "metadata": {},
   "outputs": [],
   "source": []
  }
 ],
 "metadata": {
  "kernelspec": {
   "display_name": "Python 3 (ipykernel)",
   "language": "python",
   "name": "python3"
  },
  "language_info": {
   "codemirror_mode": {
    "name": "ipython",
    "version": 3
   },
   "file_extension": ".py",
   "mimetype": "text/x-python",
   "name": "python",
   "nbconvert_exporter": "python",
   "pygments_lexer": "ipython3",
   "version": "3.9.12"
  }
 },
 "nbformat": 4,
 "nbformat_minor": 5
}
