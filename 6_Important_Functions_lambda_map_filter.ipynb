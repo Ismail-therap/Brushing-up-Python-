{
 "cells": [
  {
   "cell_type": "markdown",
   "id": "eaf5503b",
   "metadata": {},
   "source": [
    "# Lambda Function:"
   ]
  },
  {
   "cell_type": "markdown",
   "id": "37472cc2",
   "metadata": {},
   "source": [
    "To do a single line of operation we can use the Lambda function."
   ]
  },
  {
   "cell_type": "code",
   "execution_count": 6,
   "id": "ce06998b",
   "metadata": {},
   "outputs": [],
   "source": [
    "# Let's we have a function which verify whether the number is odd or even:\n",
    "\n",
    "def odd_even(x):\n",
    "    if x%2==0:\n",
    "        return (\"Even\")"
   ]
  },
  {
   "cell_type": "code",
   "execution_count": 12,
   "id": "354ff9ef",
   "metadata": {},
   "outputs": [],
   "source": [
    "# Using Lambda function\n",
    "\n",
    "odd_or_even = lambda x:x%2==0"
   ]
  },
  {
   "cell_type": "code",
   "execution_count": 13,
   "id": "4e3e5e05",
   "metadata": {},
   "outputs": [
    {
     "data": {
      "text/plain": [
       "True"
      ]
     },
     "execution_count": 13,
     "metadata": {},
     "output_type": "execute_result"
    }
   ],
   "source": [
    "odd_or_even(2)"
   ]
  },
  {
   "cell_type": "markdown",
   "id": "c24af859",
   "metadata": {},
   "source": [
    "# Map Function:"
   ]
  },
  {
   "cell_type": "code",
   "execution_count": 14,
   "id": "87841a9d",
   "metadata": {},
   "outputs": [],
   "source": [
    "def odd_even(x):\n",
    "    if x%2==0:\n",
    "        return (\"Even\")\n",
    "    else:\n",
    "        return (\"Odd\")"
   ]
  },
  {
   "cell_type": "code",
   "execution_count": 19,
   "id": "c6d05a9c",
   "metadata": {},
   "outputs": [
    {
     "data": {
      "text/plain": [
       "[1, 2, 3, 4, 5, 6, 7, 8, 9, 10]"
      ]
     },
     "execution_count": 19,
     "metadata": {},
     "output_type": "execute_result"
    }
   ],
   "source": [
    "numbers = list(range(1,11))\n",
    "numbers"
   ]
  },
  {
   "cell_type": "code",
   "execution_count": 21,
   "id": "66cc35c3",
   "metadata": {},
   "outputs": [
    {
     "data": {
      "text/plain": [
       "['Odd', 'Even', 'Odd', 'Even', 'Odd', 'Even', 'Odd', 'Even', 'Odd', 'Even']"
      ]
     },
     "execution_count": 21,
     "metadata": {},
     "output_type": "execute_result"
    }
   ],
   "source": [
    "list(map(odd_even,numbers))"
   ]
  },
  {
   "cell_type": "markdown",
   "id": "dc1d6975",
   "metadata": {},
   "source": [
    "# Filter Function:"
   ]
  },
  {
   "cell_type": "code",
   "execution_count": 22,
   "id": "70930fd4",
   "metadata": {},
   "outputs": [],
   "source": [
    "def even(x):\n",
    "    if x%2==0:\n",
    "        return True"
   ]
  },
  {
   "cell_type": "code",
   "execution_count": 23,
   "id": "e6d49d45",
   "metadata": {},
   "outputs": [
    {
     "data": {
      "text/plain": [
       "True"
      ]
     },
     "execution_count": 23,
     "metadata": {},
     "output_type": "execute_result"
    }
   ],
   "source": [
    "even(2)"
   ]
  },
  {
   "cell_type": "code",
   "execution_count": 27,
   "id": "aa095256",
   "metadata": {},
   "outputs": [
    {
     "data": {
      "text/plain": [
       "[1, 2, 3, 4, 5, 6, 7, 8, 9, 10]"
      ]
     },
     "execution_count": 27,
     "metadata": {},
     "output_type": "execute_result"
    }
   ],
   "source": [
    "numbers = list(range(1,11))\n",
    "numbers"
   ]
  },
  {
   "cell_type": "code",
   "execution_count": 26,
   "id": "01f77d5a",
   "metadata": {},
   "outputs": [
    {
     "data": {
      "text/plain": [
       "[2, 4, 6, 8, 10]"
      ]
     },
     "execution_count": 26,
     "metadata": {},
     "output_type": "execute_result"
    }
   ],
   "source": [
    "list(filter(even,numbers))"
   ]
  },
  {
   "cell_type": "code",
   "execution_count": 28,
   "id": "248a1df6",
   "metadata": {},
   "outputs": [
    {
     "data": {
      "text/plain": [
       "[None, True, None, True, None, True, None, True, None, True]"
      ]
     },
     "execution_count": 28,
     "metadata": {},
     "output_type": "execute_result"
    }
   ],
   "source": [
    "list(map(even,numbers))"
   ]
  },
  {
   "cell_type": "markdown",
   "id": "9d6e873a",
   "metadata": {},
   "source": [
    "So, filter is giving us the actual numbers using the functional logic and map just return the logic."
   ]
  },
  {
   "cell_type": "markdown",
   "id": "71b026e5",
   "metadata": {},
   "source": [
    "Now, using lambda function same task:"
   ]
  },
  {
   "cell_type": "code",
   "execution_count": 29,
   "id": "7933e82c",
   "metadata": {},
   "outputs": [
    {
     "data": {
      "text/plain": [
       "[2, 4, 6, 8, 10]"
      ]
     },
     "execution_count": 29,
     "metadata": {},
     "output_type": "execute_result"
    }
   ],
   "source": [
    "list(filter(lambda x:x%2==0,numbers))"
   ]
  },
  {
   "cell_type": "code",
   "execution_count": 30,
   "id": "f3aafbe1",
   "metadata": {},
   "outputs": [
    {
     "data": {
      "text/plain": [
       "[False, True, False, True, False, True, False, True, False, True]"
      ]
     },
     "execution_count": 30,
     "metadata": {},
     "output_type": "execute_result"
    }
   ],
   "source": [
    "list(map(lambda x:x%2==0,numbers))"
   ]
  },
  {
   "cell_type": "code",
   "execution_count": null,
   "id": "857336c1",
   "metadata": {},
   "outputs": [],
   "source": []
  }
 ],
 "metadata": {
  "kernelspec": {
   "display_name": "Python 3 (ipykernel)",
   "language": "python",
   "name": "python3"
  },
  "language_info": {
   "codemirror_mode": {
    "name": "ipython",
    "version": 3
   },
   "file_extension": ".py",
   "mimetype": "text/x-python",
   "name": "python",
   "nbconvert_exporter": "python",
   "pygments_lexer": "ipython3",
   "version": "3.9.12"
  }
 },
 "nbformat": 4,
 "nbformat_minor": 5
}
